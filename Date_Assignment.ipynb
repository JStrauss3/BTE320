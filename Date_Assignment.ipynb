{
  "nbformat": 4,
  "nbformat_minor": 0,
  "metadata": {
    "colab": {
      "provenance": [],
      "authorship_tag": "ABX9TyPCd+vGCyiBH2gpCZ5bGwpl",
      "include_colab_link": true
    },
    "kernelspec": {
      "name": "python3",
      "display_name": "Python 3"
    },
    "language_info": {
      "name": "python"
    }
  },
  "cells": [
    {
      "cell_type": "markdown",
      "metadata": {
        "id": "view-in-github",
        "colab_type": "text"
      },
      "source": [
        "<a href=\"https://colab.research.google.com/github/JStrauss3/BTE320/blob/main/Date_Assignment.ipynb\" target=\"_parent\"><img src=\"https://colab.research.google.com/assets/colab-badge.svg\" alt=\"Open In Colab\"/></a>"
      ]
    },
    {
      "cell_type": "code",
      "execution_count": 3,
      "metadata": {
        "colab": {
          "base_uri": "https://localhost:8080/"
        },
        "id": "TqXFS1BZwcaR",
        "outputId": "316e5491-b669-4a33-ec65-a964f0be3d67"
      },
      "outputs": [
        {
          "output_type": "stream",
          "name": "stdout",
          "text": [
            "Enter date (MM/DD/YYYY)12/23/2002\n",
            "12\n",
            "23\n",
            "2002\n"
          ]
        }
      ],
      "source": [
        "date = input('Enter date: (MM/DD/YYYY)')\n",
        "\n",
        "month = date[:2]\n",
        "day = date[3:5]\n",
        "year = date[6:]\n",
        "\n",
        "print(month)\n",
        "print(day)\n",
        "print(year)\n"
      ]
    }
  ]
}