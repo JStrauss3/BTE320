{
  "nbformat": 4,
  "nbformat_minor": 0,
  "metadata": {
    "colab": {
      "provenance": [],
      "authorship_tag": "ABX9TyNjv4AOnx7APYwP6LnmTHlY",
      "include_colab_link": true
    },
    "kernelspec": {
      "name": "python3",
      "display_name": "Python 3"
    },
    "language_info": {
      "name": "python"
    }
  },
  "cells": [
    {
      "cell_type": "markdown",
      "metadata": {
        "id": "view-in-github",
        "colab_type": "text"
      },
      "source": [
        "<a href=\"https://colab.research.google.com/github/JStrauss3/BTE320/blob/main/Date_Assignment.ipynb\" target=\"_parent\"><img src=\"https://colab.research.google.com/assets/colab-badge.svg\" alt=\"Open In Colab\"/></a>"
      ]
    },
    {
      "cell_type": "code",
      "execution_count": 1,
      "metadata": {
        "colab": {
          "base_uri": "https://localhost:8080/"
        },
        "id": "TqXFS1BZwcaR",
        "outputId": "55f13757-ad88-4d26-97e9-9b54943f54f3"
      },
      "outputs": [
        {
          "output_type": "stream",
          "name": "stdout",
          "text": [
            "Enter date (MM/DD/YYYY)02/20/2024\n",
            "02\n",
            "20\n",
            "2024\n"
          ]
        }
      ],
      "source": [
        "#input should be given in MM/DD/YYYY\n",
        "\n",
        "date = input('Enter date (MM/DD/YYYY)')\n",
        "\n",
        "month = date[0:2]\n",
        "day = date[3:5]\n",
        "year = date[6:]\n",
        "\n",
        "print(month)\n",
        "print(day)\n",
        "print(year)\n"
      ]
    }
  ]
}