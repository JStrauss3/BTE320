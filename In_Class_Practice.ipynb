{
  "nbformat": 4,
  "nbformat_minor": 0,
  "metadata": {
    "colab": {
      "provenance": [],
      "authorship_tag": "ABX9TyOOBFKR76P+XyQ1f5RYrEjN",
      "include_colab_link": true
    },
    "kernelspec": {
      "name": "python3",
      "display_name": "Python 3"
    },
    "language_info": {
      "name": "python"
    }
  },
  "cells": [
    {
      "cell_type": "markdown",
      "metadata": {
        "id": "view-in-github",
        "colab_type": "text"
      },
      "source": [
        "<a href=\"https://colab.research.google.com/github/JStrauss3/Jack-Strauss/blob/main/In_Class_Practice.ipynb\" target=\"_parent\"><img src=\"https://colab.research.google.com/assets/colab-badge.svg\" alt=\"Open In Colab\"/></a>"
      ]
    },
    {
      "cell_type": "code",
      "execution_count": null,
      "metadata": {
        "colab": {
          "base_uri": "https://localhost:8080/"
        },
        "id": "COP0j0K5y0lS",
        "outputId": "e3524df4-ae28-4261-cae2-3a5578c8f8f7"
      },
      "outputs": [
        {
          "output_type": "stream",
          "name": "stdout",
          "text": [
            "deposit amount1000\n",
            "Deposit at the end of year: 1030.0\n"
          ]
        }
      ],
      "source": [
        "#CONDITIONS\n",
        "deposit = float(input('deposit amount'))\n",
        "\n",
        "if deposit > 10000:\n",
        "  ir = 3.5\n",
        "elif deposit > 1000:\n",
        "  ir = 3.25\n",
        "else:\n",
        "  ir = 3\n",
        "\n",
        "deposit_endOfYear = (1 + ir/100) * deposit\n",
        "\n",
        "print(f'Deposit at the end of year: {round(deposit_endOfYear,2)}')"
      ]
    },
    {
      "cell_type": "code",
      "source": [
        "x = float(input(\"Enter a number\"))\n",
        "\n",
        "if x%2 == 0: # <-- first checks if x%2 == 0\n",
        "  if x%3 == 0: # <-- if x%2 ==0, then it checks if x%3 == 0\n",
        "    print('Divisible by 2 and 3')\n",
        "  else:\n",
        "    print('Divisible by 2 and not by 3')\n",
        "    print(f'When x is divided by 2 it equals: {x/2,}')\n",
        "\n",
        "elif x%3 == 0:\n",
        "  print('Divisible by 3 and not by 2')\n",
        "\n",
        "else:\n",
        "  print('Not divisible by either 2 or 3')"
      ],
      "metadata": {
        "id": "KBr7N6DlWHGU",
        "colab": {
          "base_uri": "https://localhost:8080/"
        },
        "outputId": "80dbc231-61f8-47fa-d337-8596d51873da"
      },
      "execution_count": null,
      "outputs": [
        {
          "output_type": "stream",
          "name": "stdout",
          "text": [
            "Enter a number27\n",
            "Divisible by 3 and not by 2\n"
          ]
        }
      ]
    },
    {
      "cell_type": "code",
      "source": [
        "customer_type = input(\"Enter customer type (n: new, e: existing):\")\n",
        "deposit = float(input('Enter deposit amount:'))\n",
        "\n",
        "if customer_type == 'n':\n",
        "  ir = 3.0\n",
        "else:\n",
        "  if deposit > 10000:\n",
        "    ir = 3.5\n",
        "  elif deposit > 1000:\n",
        "    ir = 3.25\n",
        "  else:\n",
        "    ir = 3.0\n",
        "\n",
        "total = (1 + ir/100) * deposit\n",
        "print(total)"
      ],
      "metadata": {
        "colab": {
          "base_uri": "https://localhost:8080/"
        },
        "id": "7BC78rcIZnCI",
        "outputId": "533c1a98-2ad6-4e36-96bd-40d7017b6ec5"
      },
      "execution_count": null,
      "outputs": [
        {
          "output_type": "stream",
          "name": "stdout",
          "text": [
            "Enter customer type (n: new, e: existing):n\n",
            "Enter deposit amount:900\n",
            "927.0\n"
          ]
        }
      ]
    },
    {
      "cell_type": "code",
      "source": [
        "[ ] # Let's test the compound expression\n",
        "\n",
        "x = 2\n",
        "y = 4\n",
        "z = 6\n",
        "\n",
        "if x < y and x < z:\n",
        "  print('x is least')\n",
        "elif y < z:\n",
        "  print('y is least')\n",
        "else:\n",
        "  print('z is least')"
      ],
      "metadata": {
        "id": "facdRot74Xnl",
        "colab": {
          "base_uri": "https://localhost:8080/"
        },
        "outputId": "1489981f-b674-48b0-95fb-7760ae3ffd2b"
      },
      "execution_count": null,
      "outputs": [
        {
          "output_type": "stream",
          "name": "stdout",
          "text": [
            "z is least\n"
          ]
        }
      ]
    },
    {
      "cell_type": "code",
      "source": [
        "x = 6\n",
        "y = 4\n",
        "z = 2\n",
        "\n",
        "if x%2 != 0 and y%2 != 0 and z%2 != 0:\n",
        "  print(max(x, y, z))\n",
        "elif x%2 != 0 and y%2 != 0 and z%2 == 0:\n",
        "  print(max(x,y))\n",
        "elif x%2 != 0 and y%2 == 0 and z%2 != 0:\n",
        "  print(max(x,z))\n",
        "elif x%2 == 0 and y%2 != 0 and z%2 != 0:\n",
        "  print(max(y,z))\n",
        "elif x%2 != 0 and y%2 == 0 and z%2 == 0:\n",
        "  print(max(x))\n",
        "elif x%2 == 0 and y%2 != 0 and z%2 == 0:\n",
        "  print(max(y))\n",
        "elif x%2 == 0 and y%2 == 0 and z%2 != 0:\n",
        "  print(max(z))\n",
        "else:\n",
        "  print(min(x, y, z))"
      ],
      "metadata": {
        "id": "Tc0dxT_wokKw"
      },
      "execution_count": null,
      "outputs": []
    },
    {
      "cell_type": "code",
      "source": [
        "x = 21\n",
        "y = 40\n",
        "z = 46\n",
        "\n",
        "answer = min(x,y,z)\n",
        "if x%2 != 0:\n",
        "  answer = x\n",
        "if y%2 != 0 and y > answer:\n",
        "  answer = y\n",
        "if z%2 != 0 and z > answer:\n",
        "  answer = z\n",
        "if x%2 == 0 and y%2 == 0 and z%2 == 0:\n",
        "  print(f'The minimum even value is: {answer}')\n",
        "else:\n",
        "  print(f'The maximum odd value is: {answer}')\n"
      ],
      "metadata": {
        "colab": {
          "base_uri": "https://localhost:8080/"
        },
        "id": "Jkgm8tNnqCLv",
        "outputId": "41125b12-ad5f-4688-9859-a9111aa8a4af"
      },
      "execution_count": null,
      "outputs": [
        {
          "output_type": "stream",
          "name": "stdout",
          "text": [
            "The maximum odd value is: 21\n"
          ]
        }
      ]
    },
    {
      "cell_type": "code",
      "source": [
        "#Rock Paper Scissors!\n",
        "\n",
        "import random\n",
        "\n",
        "pc_choice = random.choice(['rock','paper','scissors'])\n",
        "choice = 'yes'\n",
        "user = input(\"rock, paper, or scissors?\")\n",
        "\n",
        "while choice == 'yes':\n",
        "  if pc_choice == user:\n",
        "    print(f'The PC chose: {pc_choice}, draw.')\n",
        "  elif user == 'rock' and pc_choice == 'scissors' or user == 'paper' and pc_choice == 'rock' or user == 'scissors' and pc_choice == 'paper':\n",
        "    print(f'The PC chose: {pc_choice}, you win!')\n",
        "  else:\n",
        "    print(f'The PC chose: {pc_choice}, you lose')\n",
        "  choice = input('Do you want to play again?')\n"
      ],
      "metadata": {
        "id": "TykuOiSnsJCI",
        "colab": {
          "base_uri": "https://localhost:8080/"
        },
        "outputId": "17fb8932-f108-48dc-849a-d54f7c73bd64"
      },
      "execution_count": null,
      "outputs": [
        {
          "name": "stdout",
          "output_type": "stream",
          "text": [
            "rock, paper, or scissors?rock\n",
            "The PC chose: scissors, you win!\n",
            "Do you want to play again?yes\n",
            "The PC chose: scissors, you win!\n",
            "Do you want to play again?no\n"
          ]
        }
      ]
    },
    {
      "cell_type": "code",
      "source": [
        "pip install ColabTurtlePlus"
      ],
      "metadata": {
        "colab": {
          "base_uri": "https://localhost:8080/"
        },
        "id": "K6oEbELzVOEX",
        "outputId": "d9842908-0b35-4487-bbb8-ae7802590bc6"
      },
      "execution_count": null,
      "outputs": [
        {
          "output_type": "stream",
          "name": "stdout",
          "text": [
            "Collecting ColabTurtlePlus\n",
            "  Downloading ColabTurtlePlus-2.0.1-py3-none-any.whl (31 kB)\n",
            "Installing collected packages: ColabTurtlePlus\n",
            "Successfully installed ColabTurtlePlus-2.0.1\n"
          ]
        }
      ]
    },
    {
      "cell_type": "code",
      "source": [
        "from ColabTurtlePlus.Turtle import *\n",
        "\n",
        "clearscreen()\n",
        "\n",
        "color('black', 'blue')\n",
        "begin_fill()\n",
        "jumpto(0,0)\n",
        "\n",
        "# range has 3 inputs: start, end, step\n",
        "# numeration in python starts with 0\n",
        "# end value is always excluded, so it's 0, 1, 2, 3\n",
        "# start + step must be LESS than the end value\n",
        "#if end value is less than start value, stpe value must be negative\n",
        "\n",
        "for var in range(5,40,10):  # --> repeat the indented lines 4 times\n",
        "  forward(100)\n",
        "  left(90)\n",
        "\n",
        "end_fill()\n"
      ],
      "metadata": {
        "id": "e_Z36ZysUaXg"
      },
      "execution_count": null,
      "outputs": []
    },
    {
      "cell_type": "code",
      "source": [
        "n = ['January', 'February', 'March', 'April', 'May', 'June', 'July', 'August', 'September', 'October', 'November', 'December']\n",
        "\n",
        "for i in range(0,12,1):\n",
        "  print(n[i])"
      ],
      "metadata": {
        "id": "Tv8ox7zaaNRj"
      },
      "execution_count": null,
      "outputs": []
    },
    {
      "cell_type": "code",
      "source": [
        "charge = 5\n",
        "\n",
        "for hour in range(1,9,1):\n",
        "  charge = charge + 2.5\n",
        "  if hour < 2:\n",
        "    print(f'{hour} 10.0$')\n",
        "  elif hour >=6:\n",
        "    print(f'{hour} 20.0$')\n",
        "  else:\n",
        "    print(f'{hour} {charge}$')\n"
      ],
      "metadata": {
        "id": "MQr_zFMkcbbT",
        "colab": {
          "base_uri": "https://localhost:8080/"
        },
        "outputId": "2a3c290f-9f4c-4003-b920-c2e8dd5bffd7"
      },
      "execution_count": null,
      "outputs": [
        {
          "output_type": "stream",
          "name": "stdout",
          "text": [
            "1 10.0$\n",
            "2 10.0$\n",
            "3 12.5$\n",
            "4 15.0$\n",
            "5 17.5$\n",
            "6 20.0$\n",
            "7 20.0$\n",
            "8 20.0$\n"
          ]
        }
      ]
    }
  ]
}