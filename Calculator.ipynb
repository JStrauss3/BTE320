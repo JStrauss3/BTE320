{
  "nbformat": 4,
  "nbformat_minor": 0,
  "metadata": {
    "colab": {
      "provenance": [],
      "authorship_tag": "ABX9TyOkrjB9HWmOA5RzW0l+ob0S",
      "include_colab_link": true
    },
    "kernelspec": {
      "name": "python3",
      "display_name": "Python 3"
    },
    "language_info": {
      "name": "python"
    }
  },
  "cells": [
    {
      "cell_type": "markdown",
      "metadata": {
        "id": "view-in-github",
        "colab_type": "text"
      },
      "source": [
        "<a href=\"https://colab.research.google.com/github/JStrauss3/BTE320/blob/main/Calculator.ipynb\" target=\"_parent\"><img src=\"https://colab.research.google.com/assets/colab-badge.svg\" alt=\"Open In Colab\"/></a>"
      ]
    },
    {
      "cell_type": "code",
      "execution_count": 2,
      "metadata": {
        "colab": {
          "base_uri": "https://localhost:8080/"
        },
        "id": "8dZTwY2_cA7T",
        "outputId": "7705f47e-1685-4488-e0f1-ae8948172824"
      },
      "outputs": [
        {
          "name": "stdout",
          "output_type": "stream",
          "text": [
            "Enter first number: 1\n",
            "Enter second number: 1\n",
            "Enter the operator: +\n",
            "Result: 2.0\n",
            "Enter first number: 2\n",
            "Enter second number: 1\n",
            "Enter the operator: -\n",
            "Result: 1.0\n",
            "Enter first number: 2\n",
            "Enter second number: 3\n",
            "Enter the operator: *\n",
            "Result: 6.0\n",
            "Enter first number: 3\n",
            "Enter second number: 2\n",
            "Enter the operator: /\n",
            "Result: 1.5\n",
            "Enter first number: 4\n",
            "Enter second number: 2\n",
            "Enter the operator: //\n",
            "Result: 2.0\n",
            "Enter first number: 3\n",
            "Enter second number: 2\n",
            "Enter the operator: **\n",
            "Result: 9.0\n",
            "Enter first number: 3\n",
            "Enter second number: 3\n",
            "Enter the operator: %\n",
            "Result: 0.0\n",
            "Enter first number: 1\n",
            "Enter second number: 2\n",
            "Enter the operator: and\n",
            "Invalid operator: and\n",
            "Enter first number: 1\n",
            "Enter second number: 2\n",
            "Enter the operator: break\n"
          ]
        }
      ],
      "source": [
        "while True:\n",
        "  num1 = float(input(\"Enter first number: \"))\n",
        "  num2 = float(input(\"Enter second number: \"))\n",
        "  operator = input('Enter the operator: ')\n",
        "\n",
        "  if operator == 'break':\n",
        "    break\n",
        "\n",
        "  if operator == \"+\":\n",
        "    answer = num1 + num2\n",
        "  elif operator == \"-\":\n",
        "    answer = num1 - num2\n",
        "  elif operator == \"*\":\n",
        "    answer = num1 * num2\n",
        "  elif operator == \"/\":\n",
        "    answer = num1/num2\n",
        "  elif operator == \"//\":\n",
        "    answer = num1 // num2\n",
        "  elif operator == \"**\":\n",
        "    answer = num1 ** num2\n",
        "  elif operator == \"%\":\n",
        "    answer = num1 % num2\n",
        "  else:\n",
        "    print('Invalid operator:',operator)\n",
        "    continue\n",
        "\n",
        "  print('Result:', answer)"
      ]
    }
  ]
}