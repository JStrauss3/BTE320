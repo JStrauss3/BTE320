{
  "nbformat": 4,
  "nbformat_minor": 0,
  "metadata": {
    "colab": {
      "provenance": [],
      "authorship_tag": "ABX9TyOkrjB9HWmOA5RzW0l+ob0S",
      "include_colab_link": true
    },
    "kernelspec": {
      "name": "python3",
      "display_name": "Python 3"
    },
    "language_info": {
      "name": "python"
    }
  },
  "cells": [
    {
      "cell_type": "markdown",
      "metadata": {
        "id": "view-in-github",
        "colab_type": "text"
      },
      "source": [
        "<a href=\"https://colab.research.google.com/github/JStrauss3/BTE320/blob/main/Calculator.ipynb\" target=\"_parent\"><img src=\"https://colab.research.google.com/assets/colab-badge.svg\" alt=\"Open In Colab\"/></a>"
      ]
    },
    {
      "cell_type": "code",
      "execution_count": null,
      "metadata": {
        "colab": {
          "base_uri": "https://localhost:8080/"
        },
        "id": "8dZTwY2_cA7T",
        "outputId": "b46f75fa-2530-4790-8c00-e2d4d60bba83"
      },
      "outputs": [
        {
          "name": "stdout",
          "output_type": "stream",
          "text": [
            "What type of math would you like (+, -, *, /, //, %, **)?**\n",
            "What is your first number?1\n",
            "What is your second number?1\n",
            "1.0\n",
            "What type of math would you like (+, -, *, /, //, %, **)?**\n",
            "What is your first number?10.3\n",
            "What is your second number?2.45\n",
            "303.0059806178236\n",
            "What type of math would you like (+, -, *, /, //, %, **)?*\n",
            "What is your first number?303.0059\n",
            "What is your second number?2.78\n",
            "842.3564019999999\n",
            "What type of math would you like (+, -, *, /, //, %, **)?break\n"
          ]
        }
      ],
      "source": [
        "while True:\n",
        "  num1 = float(input(\"Enter first number: \"))\n",
        "  num2 = float(input(\"Enter second number: \"))\n",
        "  operator = input('Enter the operator: ')\n",
        "\n",
        "  if operator == 'break':\n",
        "    break\n",
        "\n",
        "  if operator == \"+\":\n",
        "    answer = num1 + num2\n",
        "  elif operator == \"-\":\n",
        "    answer = num1 - num2\n",
        "  elif operator == \"*\":\n",
        "    answer = num1 * num2\n",
        "  elif operator == \"/\":\n",
        "    answer = num1/num2\n",
        "  elif operator == \"//\":\n",
        "    answer = num1 // num2\n",
        "  elif operator == \"**\":\n",
        "    answer = num1 ** num2\n",
        "  elif operator == \"%\":\n",
        "    answer = num1 % num2\n",
        "  else:\n",
        "    print('Invalid operator:',operator)\n",
        "    continue\n",
        "\n",
        "  print('Result:', answer)"
      ]
    }
  ]
}