{
  "nbformat": 4,
  "nbformat_minor": 0,
  "metadata": {
    "colab": {
      "provenance": [],
      "authorship_tag": "ABX9TyP34eqi+bMzKTwFPpmW74Po",
      "include_colab_link": true
    },
    "kernelspec": {
      "name": "python3",
      "display_name": "Python 3"
    },
    "language_info": {
      "name": "python"
    }
  },
  "cells": [
    {
      "cell_type": "markdown",
      "metadata": {
        "id": "view-in-github",
        "colab_type": "text"
      },
      "source": [
        "<a href=\"https://colab.research.google.com/github/JStrauss3/BTE320/blob/main/Letter_Assignment.ipynb\" target=\"_parent\"><img src=\"https://colab.research.google.com/assets/colab-badge.svg\" alt=\"Open In Colab\"/></a>"
      ]
    },
    {
      "cell_type": "code",
      "execution_count": 3,
      "metadata": {
        "id": "2ALRhWM8mn_g",
        "colab": {
          "base_uri": "https://localhost:8080/"
        },
        "outputId": "e1b7cc89-871a-45c9-90eb-2b2dc3cf185e"
      },
      "outputs": [
        {
          "output_type": "stream",
          "name": "stdout",
          "text": [
            "abdg\n"
          ]
        }
      ],
      "source": [
        "#print the letters that overlap\n",
        "\n",
        "s1 = 'abcdefg'\n",
        "s2 = 'abdght'\n",
        "s3 = ''\n",
        "\n",
        "for item in s1[:]:\n",
        "  for index in s2:\n",
        "    if index == item:\n",
        "      s3 += item\n",
        "\n",
        "print(s3)"
      ]
    }
  ]
}