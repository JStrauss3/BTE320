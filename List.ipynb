{
  "nbformat": 4,
  "nbformat_minor": 0,
  "metadata": {
    "colab": {
      "provenance": [],
      "authorship_tag": "ABX9TyN3OevNyYvJsFPRTiiEi65z",
      "include_colab_link": true
    },
    "kernelspec": {
      "name": "python3",
      "display_name": "Python 3"
    },
    "language_info": {
      "name": "python"
    }
  },
  "cells": [
    {
      "cell_type": "markdown",
      "metadata": {
        "id": "view-in-github",
        "colab_type": "text"
      },
      "source": [
        "<a href=\"https://colab.research.google.com/github/JStrauss3/BTE320/blob/main/List.ipynb\" target=\"_parent\"><img src=\"https://colab.research.google.com/assets/colab-badge.svg\" alt=\"Open In Colab\"/></a>"
      ]
    },
    {
      "cell_type": "code",
      "execution_count": 1,
      "metadata": {
        "colab": {
          "base_uri": "https://localhost:8080/"
        },
        "id": "TJaodslWCSPA",
        "outputId": "3494db76-db0a-477b-c90f-872ebfc75328"
      },
      "outputs": [
        {
          "output_type": "stream",
          "name": "stdout",
          "text": [
            "Enter a value: 1\n",
            "Enter a value: 2\n",
            "Enter a value: 3\n",
            "Enter a value: 5\n",
            "Enter a value: 10\n",
            "Enter a value: 0\n",
            "[1, 2, 3, 5, 10]\n"
          ]
        }
      ],
      "source": [
        "L = []\n",
        "num = int(input(\"Enter a value: \"))\n",
        "\n",
        "while num != 0:\n",
        "  L.append(num)\n",
        "  num = int(input(\"Enter a value: \"))\n",
        "\n",
        "print(L)"
      ]
    }
  ]
}
