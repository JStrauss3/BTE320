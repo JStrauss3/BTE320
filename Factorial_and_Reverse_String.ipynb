{
  "nbformat": 4,
  "nbformat_minor": 0,
  "metadata": {
    "colab": {
      "provenance": [],
      "authorship_tag": "ABX9TyPDjedrqjYvD0xZm89XHQOs",
      "include_colab_link": true
    },
    "kernelspec": {
      "name": "python3",
      "display_name": "Python 3"
    },
    "language_info": {
      "name": "python"
    }
  },
  "cells": [
    {
      "cell_type": "markdown",
      "metadata": {
        "id": "view-in-github",
        "colab_type": "text"
      },
      "source": [
        "<a href=\"https://colab.research.google.com/github/JStrauss3/BTE320/blob/main/Factorial_and_Reverse_String.ipynb\" target=\"_parent\"><img src=\"https://colab.research.google.com/assets/colab-badge.svg\" alt=\"Open In Colab\"/></a>"
      ]
    },
    {
      "cell_type": "code",
      "execution_count": null,
      "metadata": {
        "id": "OELID5YT1kfm"
      },
      "outputs": [],
      "source": [
        "#Factorial n! = n*(n-1)*(n-2)...*2*1\n",
        "\n",
        "def fact(n):\n",
        "  p = 1\n",
        "  while n >= 1:\n",
        "    p = p * n\n",
        "    n = n - 1\n",
        "  return p\n",
        "\n",
        "num = 5\n",
        "print(fact(num))"
      ]
    },
    {
      "cell_type": "code",
      "source": [
        "#Factorial Recursive\n",
        "def recursive_fact(n):\n",
        "  if n == 0 or n == 1:\n",
        "    return 1\n",
        "  else:\n",
        "    return n * recursive_fact(n-1)\n",
        "\n",
        "num = 5\n",
        "print(f'{num}! = {recursive_fact(num)}')"
      ],
      "metadata": {
        "id": "gxeW1qdg5UKt"
      },
      "execution_count": null,
      "outputs": []
    },
    {
      "cell_type": "code",
      "source": [
        "def reverse(s):\n",
        "  if len(s) == 1:\n",
        "    return s\n",
        "  else:\n",
        "    return s[-1] + reverse(s[:-1])\n",
        "\n",
        "reverse(\"Computer\")"
      ],
      "metadata": {
        "id": "h3nmBCyE5VJ_"
      },
      "execution_count": null,
      "outputs": []
    },
    {
      "cell_type": "code",
      "source": [
        "def quickSort(alist):\n",
        "  if len(alist) < 2:\n",
        "    return alist\n",
        "  else:\n",
        "    less, equals, larger = [], [], []\n",
        "\n",
        "    pivotIndex = len(alist) // 2\n",
        "\n",
        "    for item in alist:\n",
        "      if item < alist[pivotIndex]:\n",
        "        less.append(item)\n",
        "      elif item == alist[pivotIndex]:\n",
        "        equals.append(item)\n",
        "      else:\n",
        "        larger.append(item)\n",
        "\n",
        "    return quickSort(less) + equals + quickSort(larger)\n",
        "\n",
        "quickSort([8,2,5,3,6,1])"
      ],
      "metadata": {
        "colab": {
          "base_uri": "https://localhost:8080/"
        },
        "id": "wiFGfKaaJV0X",
        "outputId": "6b498d64-c785-4749-ea98-a7f2702daf2a"
      },
      "execution_count": 9,
      "outputs": [
        {
          "output_type": "execute_result",
          "data": {
            "text/plain": [
              "[1, 2, 3, 5, 6, 8]"
            ]
          },
          "metadata": {},
          "execution_count": 9
        }
      ]
    }
  ]
}