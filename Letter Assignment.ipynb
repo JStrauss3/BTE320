{
  "nbformat": 4,
  "nbformat_minor": 0,
  "metadata": {
    "colab": {
      "provenance": [],
      "authorship_tag": "ABX9TyPP9QzqEdQj5A8H6xqVyOLT",
      "include_colab_link": true
    },
    "kernelspec": {
      "name": "python3",
      "display_name": "Python 3"
    },
    "language_info": {
      "name": "python"
    }
  },
  "cells": [
    {
      "cell_type": "markdown",
      "metadata": {
        "id": "view-in-github",
        "colab_type": "text"
      },
      "source": [
        "<a href=\"https://colab.research.google.com/github/JStrauss3/BTE320/blob/main/Letter%20Assignment.ipynb\" target=\"_parent\"><img src=\"https://colab.research.google.com/assets/colab-badge.svg\" alt=\"Open In Colab\"/></a>"
      ]
    },
    {
      "cell_type": "code",
      "execution_count": 25,
      "metadata": {
        "id": "2ALRhWM8mn_g",
        "colab": {
          "base_uri": "https://localhost:8080/"
        },
        "outputId": "b2b060a7-15d3-435e-e388-df7188c5909f"
      },
      "outputs": [
        {
          "output_type": "stream",
          "name": "stdout",
          "text": [
            "abdg\n"
          ]
        }
      ],
      "source": [
        "#print the letters that overlap\n",
        "\n",
        "s1 = 'abcdefg'\n",
        "s2 = 'abdght'\n",
        "s3 = ''\n",
        "\n",
        "for item in s1:\n",
        "  for index in s2:\n",
        "    if index == item:\n",
        "      s3 += item\n",
        "\n",
        "print(s3)"
      ]
    }
  ]
}