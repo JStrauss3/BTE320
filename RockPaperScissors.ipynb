{
  "nbformat": 4,
  "nbformat_minor": 0,
  "metadata": {
    "colab": {
      "provenance": [],
      "authorship_tag": "ABX9TyNIwQumApS5ro+RN6GocHVV",
      "include_colab_link": true
    },
    "kernelspec": {
      "name": "python3",
      "display_name": "Python 3"
    },
    "language_info": {
      "name": "python"
    }
  },
  "cells": [
    {
      "cell_type": "markdown",
      "metadata": {
        "id": "view-in-github",
        "colab_type": "text"
      },
      "source": [
        "<a href=\"https://colab.research.google.com/github/JStrauss3/BTE320/blob/main/RockPaperScissors.ipynb\" target=\"_parent\"><img src=\"https://colab.research.google.com/assets/colab-badge.svg\" alt=\"Open In Colab\"/></a>"
      ]
    },
    {
      "cell_type": "code",
      "execution_count": 1,
      "metadata": {
        "colab": {
          "base_uri": "https://localhost:8080/"
        },
        "id": "YxZGabp5RiAp",
        "outputId": "7424ef87-0eb8-4713-9a08-71f469d64070"
      },
      "outputs": [
        {
          "name": "stdout",
          "output_type": "stream",
          "text": [
            "rock, paper, or scissors?rock\n",
            "The PC chose: scissors, you win!\n",
            "Do you want to play again?no\n"
          ]
        }
      ],
      "source": [
        "import random\n",
        "\n",
        "pc_choice = random.choice(['rock','paper','scissors'])\n",
        "choice = 'yes'\n",
        "user = input(\"rock, paper, or scissors?\")\n",
        "\n",
        "while choice == 'yes':\n",
        "  if pc_choice == user:\n",
        "    print(f'The PC chose: {pc_choice}, draw.')\n",
        "  elif user == 'rock' and pc_choice == 'scissors' or user == 'paper' and pc_choice == 'rock' or user == 'scissors' and pc_choice == 'paper':\n",
        "    print(f'The PC chose: {pc_choice}, you win!')\n",
        "  else:\n",
        "    print(f'The PC chose: {pc_choice}, you lose')\n",
        "  choice = input('Do you want to play again?')"
      ]
    }
  ]
}